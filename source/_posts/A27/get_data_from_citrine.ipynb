{
 "cells": [
  {
   "cell_type": "markdown",
   "metadata": {},
   "source": [
    "# Getting data from Citrine Informatics\n",
    "Citrine 也是一个材料学数据库，自带了机器学习工具，大家也可以研究研究。官网是 https://citrination.com/search/simple?searchMatchOption=fuzzyMatch\n",
    "\n",
    "本次，我们将通过几个例子了解如何在这个数据库中获取数据\n",
    "在Citrine中获取数据需要用到 matminer.data_retrieval.retrieve_Citrine.CitrineDataRetrieval 这个工具，其跟materials project类似，也学要一个API_key。大家可以在官网注册，并记录下API_Key。"
   ]
  },
  {
   "cell_type": "code",
   "execution_count": 2,
   "metadata": {},
   "outputs": [],
   "source": [
    "#请先在终端中输入： pip install citrination_client ； 否则会报错\n",
    "#然后我们回到代码，导入 CitrineDataRetrieval 这个模块\n",
    "from matminer.data_retrieval.retrieve_Citrine import CitrineDataRetrieval"
   ]
  },
  {
   "cell_type": "markdown",
   "metadata": {},
   "source": [
    "## 示例1：获取化学式为 Si 的所有材料的实验测得的能带"
   ]
  },
  {
   "cell_type": "code",
   "execution_count": 3,
   "metadata": {},
   "outputs": [],
   "source": [
    "# 先实例化这个工具，需要提供你的API_Key\n",
    "cdr = CitrineDataRetrieval(api_key='qqgcv0QIuV1mXDQIrEzuWgtt')"
   ]
  },
  {
   "cell_type": "code",
   "execution_count": 4,
   "metadata": {},
   "outputs": [
    {
     "name": "stderr",
     "output_type": "stream",
     "text": [
      "  0%|                                                                                            | 0/7 [00:00<?, ?it/s]d:\\programs\\anaconda3\\envs\\py36\\lib\\site-packages\\matminer\\data_retrieval\\retrieve_Citrine.py:103: FutureWarning:\n",
      "\n",
      "pandas.io.json.json_normalize is deprecated, use pandas.json_normalize instead\n",
      "\n",
      "100%|████████████████████████████████████████████████████████████████████████████████████| 7/7 [00:00<00:00, 87.33it/s]"
     ]
    },
    {
     "name": "stdout",
     "output_type": "stream",
     "text": [
      "all available fields:\n",
      "['Band gap', 'uid', 'Band gap-units', 'category', 'references', 'chemicalFormula', 'Crystallinity', 'Band gap-conditions', 'Band gap-methods', 'Band gap-dataType']\n",
      "\n",
      "suggested common fields:\n",
      "['references', 'chemicalFormula', 'Crystallinity', 'Band gap', 'Band gap-units', 'Band gap-conditions', 'Band gap-methods', 'Band gap-dataType']\n"
     ]
    },
    {
     "name": "stderr",
     "output_type": "stream",
     "text": [
      "\n"
     ]
    }
   ],
   "source": [
    "# 接下来，类似从materials project获取数据，我们需要用get_dataframe函数\n",
    "df = cdr.get_dataframe(criteria={'formula':'Si', 'data_type': 'EXPERIMENTAL'}, \n",
    "                       properties=['Band gap'],\n",
    "                       secondary_fields=True)"
   ]
  },
  {
   "cell_type": "code",
   "execution_count": 6,
   "metadata": {},
   "outputs": [
    {
     "data": {
      "text/html": [
       "<div>\n",
       "<style scoped>\n",
       "    .dataframe tbody tr th:only-of-type {\n",
       "        vertical-align: middle;\n",
       "    }\n",
       "\n",
       "    .dataframe tbody tr th {\n",
       "        vertical-align: top;\n",
       "    }\n",
       "\n",
       "    .dataframe thead th {\n",
       "        text-align: right;\n",
       "    }\n",
       "</style>\n",
       "<table border=\"1\" class=\"dataframe\">\n",
       "  <thead>\n",
       "    <tr style=\"text-align: right;\">\n",
       "      <th></th>\n",
       "      <th>references</th>\n",
       "      <th>chemicalFormula</th>\n",
       "      <th>Crystallinity</th>\n",
       "      <th>Band gap</th>\n",
       "      <th>Band gap-units</th>\n",
       "      <th>Band gap-conditions</th>\n",
       "      <th>Band gap-methods</th>\n",
       "      <th>Band gap-dataType</th>\n",
       "    </tr>\n",
       "  </thead>\n",
       "  <tbody>\n",
       "    <tr>\n",
       "      <th>1</th>\n",
       "      <td>[{'doi': '10.1063/1.3253115'}]</td>\n",
       "      <td>Si</td>\n",
       "      <td>Single crystalline</td>\n",
       "      <td>1.12</td>\n",
       "      <td>eV</td>\n",
       "      <td>[{'name': 'Transition', 'scalars': [{'value': ...</td>\n",
       "      <td>{'name': 'Absorption'}</td>\n",
       "      <td>EXPERIMENTAL</td>\n",
       "    </tr>\n",
       "    <tr>\n",
       "      <th>2</th>\n",
       "      <td>[{'doi': '10.1063/1.3253115'}]</td>\n",
       "      <td>Si</td>\n",
       "      <td>Single crystalline</td>\n",
       "      <td>1.166</td>\n",
       "      <td>eV</td>\n",
       "      <td>[{'name': 'Transition', 'scalars': [{'value': ...</td>\n",
       "      <td>NaN</td>\n",
       "      <td>EXPERIMENTAL</td>\n",
       "    </tr>\n",
       "    <tr>\n",
       "      <th>3</th>\n",
       "      <td>[{'doi': '10.1063/1.3253115'}]</td>\n",
       "      <td>Si</td>\n",
       "      <td>Single crystalline</td>\n",
       "      <td>1.16</td>\n",
       "      <td>eV</td>\n",
       "      <td>[{'name': 'Transition', 'scalars': [{'value': ...</td>\n",
       "      <td>{'name': 'Absorption'}</td>\n",
       "      <td>EXPERIMENTAL</td>\n",
       "    </tr>\n",
       "    <tr>\n",
       "      <th>4</th>\n",
       "      <td>[{'doi': '10.1063/1.3253115'}]</td>\n",
       "      <td>Si</td>\n",
       "      <td>Single crystalline</td>\n",
       "      <td>1.16</td>\n",
       "      <td>eV</td>\n",
       "      <td>[{'name': 'Transition', 'scalars': [{'value': ...</td>\n",
       "      <td>{'name': 'Absorption'}</td>\n",
       "      <td>EXPERIMENTAL</td>\n",
       "    </tr>\n",
       "    <tr>\n",
       "      <th>5</th>\n",
       "      <td>[{'doi': '10.1063/1.3253115'}]</td>\n",
       "      <td>Si</td>\n",
       "      <td>Single crystalline</td>\n",
       "      <td>1.17</td>\n",
       "      <td>eV</td>\n",
       "      <td>[{'name': 'Transition', 'scalars': [{'value': ...</td>\n",
       "      <td>{'name': 'Absorption'}</td>\n",
       "      <td>EXPERIMENTAL</td>\n",
       "    </tr>\n",
       "    <tr>\n",
       "      <th>6</th>\n",
       "      <td>[{'doi': '10.1063/1.3253115'}]</td>\n",
       "      <td>Si</td>\n",
       "      <td>Single crystalline</td>\n",
       "      <td>1.165</td>\n",
       "      <td>eV</td>\n",
       "      <td>[{'name': 'Transition', 'scalars': [{'value': ...</td>\n",
       "      <td>{'name': 'Absorption'}</td>\n",
       "      <td>EXPERIMENTAL</td>\n",
       "    </tr>\n",
       "    <tr>\n",
       "      <th>7</th>\n",
       "      <td>[{'doi': '10.1063/1.3253115'}]</td>\n",
       "      <td>Si</td>\n",
       "      <td>Single crystalline</td>\n",
       "      <td>1.12</td>\n",
       "      <td>eV</td>\n",
       "      <td>[{'name': 'Transition', 'scalars': [{'value': ...</td>\n",
       "      <td>{'name': 'Absorption'}</td>\n",
       "      <td>EXPERIMENTAL</td>\n",
       "    </tr>\n",
       "  </tbody>\n",
       "</table>\n",
       "</div>"
      ],
      "text/plain": [
       "                       references chemicalFormula       Crystallinity  \\\n",
       "1  [{'doi': '10.1063/1.3253115'}]              Si  Single crystalline   \n",
       "2  [{'doi': '10.1063/1.3253115'}]              Si  Single crystalline   \n",
       "3  [{'doi': '10.1063/1.3253115'}]              Si  Single crystalline   \n",
       "4  [{'doi': '10.1063/1.3253115'}]              Si  Single crystalline   \n",
       "5  [{'doi': '10.1063/1.3253115'}]              Si  Single crystalline   \n",
       "6  [{'doi': '10.1063/1.3253115'}]              Si  Single crystalline   \n",
       "7  [{'doi': '10.1063/1.3253115'}]              Si  Single crystalline   \n",
       "\n",
       "  Band gap Band gap-units                                Band gap-conditions  \\\n",
       "1     1.12             eV  [{'name': 'Transition', 'scalars': [{'value': ...   \n",
       "2    1.166             eV  [{'name': 'Transition', 'scalars': [{'value': ...   \n",
       "3     1.16             eV  [{'name': 'Transition', 'scalars': [{'value': ...   \n",
       "4     1.16             eV  [{'name': 'Transition', 'scalars': [{'value': ...   \n",
       "5     1.17             eV  [{'name': 'Transition', 'scalars': [{'value': ...   \n",
       "6    1.165             eV  [{'name': 'Transition', 'scalars': [{'value': ...   \n",
       "7     1.12             eV  [{'name': 'Transition', 'scalars': [{'value': ...   \n",
       "\n",
       "         Band gap-methods Band gap-dataType  \n",
       "1  {'name': 'Absorption'}      EXPERIMENTAL  \n",
       "2                     NaN      EXPERIMENTAL  \n",
       "3  {'name': 'Absorption'}      EXPERIMENTAL  \n",
       "4  {'name': 'Absorption'}      EXPERIMENTAL  \n",
       "5  {'name': 'Absorption'}      EXPERIMENTAL  \n",
       "6  {'name': 'Absorption'}      EXPERIMENTAL  \n",
       "7  {'name': 'Absorption'}      EXPERIMENTAL  "
      ]
     },
     "execution_count": 6,
     "metadata": {},
     "output_type": "execute_result"
    }
   ],
   "source": [
    "df"
   ]
  },
  {
   "cell_type": "markdown",
   "metadata": {},
   "source": [
    "从上面结果可以看出，数据库里有化学式为Si的材料共7中实验测得的能带数据。这些数据来源的文献，带隙的值，实验方法都被记录了下来。"
   ]
  },
  {
   "cell_type": "markdown",
   "metadata": {},
   "source": [
    "## 示例2：获取材料对 *OH 和 *O物种的吸附能\n",
    "想不到citrine数据库还有各种材料对*OH 和 *O 物种的吸附能，一起来看看怎么获取把。要查询更多的数据库，请探索官网https://citrination.com/datasets "
   ]
  },
  {
   "cell_type": "code",
   "execution_count": 7,
   "metadata": {},
   "outputs": [
    {
     "name": "stderr",
     "output_type": "stream",
     "text": [
      "  0%|                                                                                            | 0/9 [00:00<?, ?it/s]d:\\programs\\anaconda3\\envs\\py36\\lib\\site-packages\\matminer\\data_retrieval\\retrieve_Citrine.py:103: FutureWarning:\n",
      "\n",
      "pandas.io.json.json_normalize is deprecated, use pandas.json_normalize instead\n",
      "\n",
      "100%|███████████████████████████████████████████████████████████████████████████████████| 9/9 [00:00<00:00, 128.63it/s]\n"
     ]
    },
    {
     "name": "stdout",
     "output_type": "stream",
     "text": [
      "all available fields:\n",
      "['uid', 'Adsorption energy of OH', 'Adsorption energy of OH-units', 'Morphology', 'Surface facet', 'category', 'references', 'chemicalFormula', 'Adsorption energy of OH-conditions', 'Adsorption energy of OH-dataType']\n",
      "\n",
      "suggested common fields:\n",
      "['references', 'chemicalFormula', 'Surface facet', 'Adsorption energy of OH', 'Adsorption energy of OH-units', 'Adsorption energy of OH-dataType', 'Morphology', 'Adsorption energy of OH-conditions']\n"
     ]
    },
    {
     "name": "stderr",
     "output_type": "stream",
     "text": [
      "100%|█████████████████████████████████████████████████████████████████████████████████| 21/21 [00:00<00:00, 140.70it/s]"
     ]
    },
    {
     "name": "stdout",
     "output_type": "stream",
     "text": [
      "all available fields:\n",
      "['uid', 'Surface facet', 'Adsorption energy of O', 'category', 'references', 'chemicalFormula', 'Reconstruction', 'Adsorption energy of O-units', 'Adsorption energy of O-conditions']\n",
      "\n",
      "suggested common fields:\n",
      "['references', 'chemicalFormula', 'Surface facet', 'Adsorption energy of O', 'Adsorption energy of O-units', 'Adsorption energy of O-conditions', 'Reconstruction']\n"
     ]
    },
    {
     "name": "stderr",
     "output_type": "stream",
     "text": [
      "\n"
     ]
    }
   ],
   "source": [
    "# 我们发现这里不需要指定筛选条件，只需要返回所需要的性质即可。\n",
    "df_OH = cdr.get_dataframe(criteria={}, properties=['adsorption energy of OH'], secondary_fields=True)\n",
    "df_O = cdr.get_dataframe(criteria={}, properties=['adsorption energy of O'], secondary_fields=True)"
   ]
  },
  {
   "cell_type": "code",
   "execution_count": 9,
   "metadata": {},
   "outputs": [
    {
     "data": {
      "text/html": [
       "<div>\n",
       "<style scoped>\n",
       "    .dataframe tbody tr th:only-of-type {\n",
       "        vertical-align: middle;\n",
       "    }\n",
       "\n",
       "    .dataframe tbody tr th {\n",
       "        vertical-align: top;\n",
       "    }\n",
       "\n",
       "    .dataframe thead th {\n",
       "        text-align: right;\n",
       "    }\n",
       "</style>\n",
       "<table border=\"1\" class=\"dataframe\">\n",
       "  <thead>\n",
       "    <tr style=\"text-align: right;\">\n",
       "      <th></th>\n",
       "      <th>references</th>\n",
       "      <th>chemicalFormula</th>\n",
       "      <th>Surface facet</th>\n",
       "      <th>Adsorption energy of OH</th>\n",
       "      <th>Adsorption energy of OH-units</th>\n",
       "      <th>Adsorption energy of OH-dataType</th>\n",
       "      <th>Morphology</th>\n",
       "      <th>Adsorption energy of OH-conditions</th>\n",
       "    </tr>\n",
       "  </thead>\n",
       "  <tbody>\n",
       "    <tr>\n",
       "      <th>1</th>\n",
       "      <td>[{'citation': '10.1039/c2cc30281k', 'doi': '10...</td>\n",
       "      <td>Pt</td>\n",
       "      <td>(111)</td>\n",
       "      <td>2.44</td>\n",
       "      <td>eV</td>\n",
       "      <td>NaN</td>\n",
       "      <td>NaN</td>\n",
       "      <td>NaN</td>\n",
       "    </tr>\n",
       "    <tr>\n",
       "      <th>2</th>\n",
       "      <td>[{'citation': '10.1016/s1872-2067(12)60642-1',...</td>\n",
       "      <td>Cu</td>\n",
       "      <td>(211)</td>\n",
       "      <td>-3.55</td>\n",
       "      <td>eV</td>\n",
       "      <td>COMPUTATIONAL</td>\n",
       "      <td>NaN</td>\n",
       "      <td>NaN</td>\n",
       "    </tr>\n",
       "    <tr>\n",
       "      <th>3</th>\n",
       "      <td>[{'citation': '10.1016/s1872-2067(12)60642-1',...</td>\n",
       "      <td>ZnO</td>\n",
       "      <td>NaN</td>\n",
       "      <td>-3.03</td>\n",
       "      <td>eV</td>\n",
       "      <td>COMPUTATIONAL</td>\n",
       "      <td>Thin film</td>\n",
       "      <td>NaN</td>\n",
       "    </tr>\n",
       "    <tr>\n",
       "      <th>4</th>\n",
       "      <td>[{'citation': '10.1016/j.corsci.2012.11.011', ...</td>\n",
       "      <td>Fe</td>\n",
       "      <td>(100)</td>\n",
       "      <td>-3.95</td>\n",
       "      <td>eV</td>\n",
       "      <td>NaN</td>\n",
       "      <td>NaN</td>\n",
       "      <td>NaN</td>\n",
       "    </tr>\n",
       "    <tr>\n",
       "      <th>5</th>\n",
       "      <td>[{'citation': '10.1021/jp807094m', 'doi': '10....</td>\n",
       "      <td>Pt</td>\n",
       "      <td>(111)</td>\n",
       "      <td>2.71</td>\n",
       "      <td>eV</td>\n",
       "      <td>NaN</td>\n",
       "      <td>NaN</td>\n",
       "      <td>{'name': 'Site', 'scalars': [{'value': 'Top si...</td>\n",
       "    </tr>\n",
       "  </tbody>\n",
       "</table>\n",
       "</div>"
      ],
      "text/plain": [
       "                                          references chemicalFormula  \\\n",
       "1  [{'citation': '10.1039/c2cc30281k', 'doi': '10...              Pt   \n",
       "2  [{'citation': '10.1016/s1872-2067(12)60642-1',...              Cu   \n",
       "3  [{'citation': '10.1016/s1872-2067(12)60642-1',...             ZnO   \n",
       "4  [{'citation': '10.1016/j.corsci.2012.11.011', ...              Fe   \n",
       "5  [{'citation': '10.1021/jp807094m', 'doi': '10....              Pt   \n",
       "\n",
       "  Surface facet Adsorption energy of OH Adsorption energy of OH-units  \\\n",
       "1         (111)                    2.44                            eV   \n",
       "2         (211)                   -3.55                            eV   \n",
       "3           NaN                   -3.03                            eV   \n",
       "4         (100)                   -3.95                            eV   \n",
       "5         (111)                    2.71                            eV   \n",
       "\n",
       "  Adsorption energy of OH-dataType Morphology  \\\n",
       "1                              NaN        NaN   \n",
       "2                    COMPUTATIONAL        NaN   \n",
       "3                    COMPUTATIONAL  Thin film   \n",
       "4                              NaN        NaN   \n",
       "5                              NaN        NaN   \n",
       "\n",
       "                  Adsorption energy of OH-conditions  \n",
       "1                                                NaN  \n",
       "2                                                NaN  \n",
       "3                                                NaN  \n",
       "4                                                NaN  \n",
       "5  {'name': 'Site', 'scalars': [{'value': 'Top si...  "
      ]
     },
     "execution_count": 9,
     "metadata": {},
     "output_type": "execute_result"
    }
   ],
   "source": [
    "df_OH.head()"
   ]
  },
  {
   "cell_type": "code",
   "execution_count": 10,
   "metadata": {},
   "outputs": [
    {
     "data": {
      "text/html": [
       "<div>\n",
       "<style scoped>\n",
       "    .dataframe tbody tr th:only-of-type {\n",
       "        vertical-align: middle;\n",
       "    }\n",
       "\n",
       "    .dataframe tbody tr th {\n",
       "        vertical-align: top;\n",
       "    }\n",
       "\n",
       "    .dataframe thead th {\n",
       "        text-align: right;\n",
       "    }\n",
       "</style>\n",
       "<table border=\"1\" class=\"dataframe\">\n",
       "  <thead>\n",
       "    <tr style=\"text-align: right;\">\n",
       "      <th></th>\n",
       "      <th>references</th>\n",
       "      <th>chemicalFormula</th>\n",
       "      <th>Surface facet</th>\n",
       "      <th>Adsorption energy of O</th>\n",
       "      <th>Adsorption energy of O-units</th>\n",
       "      <th>Adsorption energy of O-conditions</th>\n",
       "      <th>Reconstruction</th>\n",
       "    </tr>\n",
       "  </thead>\n",
       "  <tbody>\n",
       "    <tr>\n",
       "      <th>1</th>\n",
       "      <td>[{'citation': '10.1016/j.jcat.2007.04.018', 'd...</td>\n",
       "      <td>Fe</td>\n",
       "      <td>(111)</td>\n",
       "      <td>-5.42</td>\n",
       "      <td>eV</td>\n",
       "      <td>NaN</td>\n",
       "      <td>NaN</td>\n",
       "    </tr>\n",
       "    <tr>\n",
       "      <th>2</th>\n",
       "      <td>[{'citation': '10.1002/cctc.201100308', 'doi':...</td>\n",
       "      <td>Pt</td>\n",
       "      <td>(111)</td>\n",
       "      <td>1.53</td>\n",
       "      <td>eV</td>\n",
       "      <td>NaN</td>\n",
       "      <td>NaN</td>\n",
       "    </tr>\n",
       "    <tr>\n",
       "      <th>3</th>\n",
       "      <td>[{'citation': '10.1021/jp307055j', 'doi': '10....</td>\n",
       "      <td>Pt</td>\n",
       "      <td>(111)</td>\n",
       "      <td>-4.54</td>\n",
       "      <td>eV</td>\n",
       "      <td>NaN</td>\n",
       "      <td>NaN</td>\n",
       "    </tr>\n",
       "    <tr>\n",
       "      <th>4</th>\n",
       "      <td>[{'citation': '10.1021/jp710674q', 'doi': '10....</td>\n",
       "      <td>Co</td>\n",
       "      <td>(0001)</td>\n",
       "      <td>2.37</td>\n",
       "      <td>eV</td>\n",
       "      <td>{'name': 'Site', 'scalars': [{'value': 'FCC si...</td>\n",
       "      <td>NaN</td>\n",
       "    </tr>\n",
       "    <tr>\n",
       "      <th>5</th>\n",
       "      <td>[{'citation': '10.1007/bf00806980', 'doi': '10...</td>\n",
       "      <td>Rh</td>\n",
       "      <td>(110)</td>\n",
       "      <td>-300</td>\n",
       "      <td>kJ/mol</td>\n",
       "      <td>NaN</td>\n",
       "      <td>NaN</td>\n",
       "    </tr>\n",
       "  </tbody>\n",
       "</table>\n",
       "</div>"
      ],
      "text/plain": [
       "                                          references chemicalFormula  \\\n",
       "1  [{'citation': '10.1016/j.jcat.2007.04.018', 'd...              Fe   \n",
       "2  [{'citation': '10.1002/cctc.201100308', 'doi':...              Pt   \n",
       "3  [{'citation': '10.1021/jp307055j', 'doi': '10....              Pt   \n",
       "4  [{'citation': '10.1021/jp710674q', 'doi': '10....              Co   \n",
       "5  [{'citation': '10.1007/bf00806980', 'doi': '10...              Rh   \n",
       "\n",
       "  Surface facet Adsorption energy of O Adsorption energy of O-units  \\\n",
       "1         (111)                  -5.42                           eV   \n",
       "2         (111)                   1.53                           eV   \n",
       "3         (111)                  -4.54                           eV   \n",
       "4        (0001)                   2.37                           eV   \n",
       "5         (110)                   -300                       kJ/mol   \n",
       "\n",
       "                   Adsorption energy of O-conditions Reconstruction  \n",
       "1                                                NaN            NaN  \n",
       "2                                                NaN            NaN  \n",
       "3                                                NaN            NaN  \n",
       "4  {'name': 'Site', 'scalars': [{'value': 'FCC si...            NaN  \n",
       "5                                                NaN            NaN  "
      ]
     },
     "execution_count": 10,
     "metadata": {},
     "output_type": "execute_result"
    }
   ],
   "source": [
    "df_O.head()"
   ]
  },
  {
   "cell_type": "markdown",
   "metadata": {},
   "source": [
    "大家可以看到，这些数据库里面的数据还不够丰富。大家也可以把自己计算得到的数据上传到citrine数据库中，促进科学知识的开放获取。"
   ]
  },
  {
   "cell_type": "markdown",
   "metadata": {},
   "source": [
    "实际上 citrine 数据库包含了很多实验数据，下次的分享中，我们会把citrine数据库中的实验数据和materials project中的计算数据做个对比。\n",
    "\n",
    "强烈推荐大家在学习的时候使用jupyter notebook。\n",
    "\n",
    "本次分享到此结束"
   ]
  }
 ],
 "metadata": {
  "kernelspec": {
   "display_name": "Python 3",
   "language": "python",
   "name": "python3"
  },
  "language_info": {
   "codemirror_mode": {
    "name": "ipython",
    "version": 3
   },
   "file_extension": ".py",
   "mimetype": "text/x-python",
   "name": "python",
   "nbconvert_exporter": "python",
   "pygments_lexer": "ipython3",
   "version": "3.6.12"
  }
 },
 "nbformat": 4,
 "nbformat_minor": 4
}
